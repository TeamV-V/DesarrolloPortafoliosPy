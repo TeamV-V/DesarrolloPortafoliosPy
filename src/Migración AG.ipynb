{
 "cells": [
  {
   "cell_type": "markdown",
   "metadata": {},
   "source": [
    "# Migración algoritmo optimización portafolios"
   ]
  },
  {
   "cell_type": "markdown",
   "metadata": {},
   "source": [
    "## Carga librerias"
   ]
  },
  {
   "cell_type": "code",
   "execution_count": null,
   "metadata": {},
   "outputs": [],
   "source": [
    "import pandas as pd\n",
    "import numpy as np\n",
    "import yfinance as yf\n",
    "import datetime\n",
    "from datetime import date, timedelta\n",
    "from IPython.display import clear_output\n",
    "#Prueba"
   ]
  },
  {
   "cell_type": "markdown",
   "metadata": {},
   "source": [
    "## Funciones de apoyo"
   ]
  },
  {
   "cell_type": "code",
   "execution_count": null,
   "metadata": {},
   "outputs": [],
   "source": [
    "def get_time_delta(date: date , days: int, format: str = '%Y-%m-%d'):\n",
    "    \"\"\"this function returns a date that is days before the date passed as argument and its original day\n",
    "\n",
    "    Args:\n",
    "        date (date): date to be used as reference\n",
    "        days (int): number of days for the time delta\n",
    "\n",
    "    Returns:\n",
    "        [str,str]: end date and start date in the format specified\n",
    "    \"\"\"\n",
    "    return (date - timedelta(days=days)).strftime(format), date.strftime(format)"
   ]
  },
  {
   "cell_type": "markdown",
   "metadata": {},
   "source": [
    "## Descarga datos historicos de los ultimos dos años"
   ]
  },
  {
   "cell_type": "markdown",
   "metadata": {},
   "source": [
    "### Descarga de Cripto"
   ]
  },
  {
   "cell_type": "code",
   "execution_count": null,
   "metadata": {},
   "outputs": [],
   "source": [
    "\n",
    "start_date,end_date = get_time_delta(date.today(), 730)\n",
    "\n",
    "data = yf.download(['BTC-USD','ETH-USD','BNB-USD'], \n",
    "                      start=start_date, \n",
    "                      end=end_date, \n",
    "                      progress=False)\n",
    "data[\"Date\"] = data.index\n",
    "data = data[[\"Date\", \"Adj Close\"]]\n",
    "data.reset_index(drop=True, inplace=True)\n",
    "data[\"Date\"] = data[\"Date\"].dt.date\n",
    "data[\"Date\"] = pd.to_datetime(data[\"Date\"])\n",
    "fecha_minima=min(data[\"Date\"])\n",
    "data=data.set_index(data[\"Date\"])\n",
    "del data[\"Date\"]\n",
    "data = data.reorder_levels([1,0], axis=1)\n",
    "data.columns = data.columns.droplevel()"
   ]
  },
  {
   "cell_type": "code",
   "execution_count": 98,
   "metadata": {},
   "outputs": [],
   "source": [
    "data.to_csv('../data/Curated/Crypto_History.csv')"
   ]
  },
  {
   "cell_type": "markdown",
   "metadata": {},
   "source": [
    "### Descarga de Acciones SP500"
   ]
  },
  {
   "cell_type": "code",
   "execution_count": null,
   "metadata": {},
   "outputs": [],
   "source": [
    "#load data from SP500\n",
    "sp500 = pd.read_csv('../data/SP500.csv')\n",
    "symbols = sp500[\"Symbol\"].tolist()"
   ]
  },
  {
   "cell_type": "code",
   "execution_count": null,
   "metadata": {},
   "outputs": [],
   "source": [
    "data = yf.download(symbols, \n",
    "                      start=start_date, \n",
    "                      end=end_date, \n",
    "                      progress=False)\n",
    "data[\"Date\"] = data.index\n",
    "data = data[[\"Date\", \"Adj Close\"]]\n",
    "data.reset_index(drop=True, inplace=True)\n",
    "data[\"Date\"] = data[\"Date\"].dt.date\n",
    "data[\"Date\"] = pd.to_datetime(data[\"Date\"])\n",
    "fecha_minima=min(data[\"Date\"])\n",
    "data=data.set_index(data[\"Date\"])\n",
    "del data[\"Date\"]\n",
    "data = data.reorder_levels([1,0], axis=1)\n",
    "data.columns = data.columns.droplevel()"
   ]
  },
  {
   "cell_type": "code",
   "execution_count": null,
   "metadata": {},
   "outputs": [],
   "source": [
    "data.to_csv('../data/Curated/SP500_History.csv')"
   ]
  },
  {
   "cell_type": "markdown",
   "metadata": {},
   "source": [
    "## Calculo retornos diarios y mensuales"
   ]
  },
  {
   "cell_type": "code",
   "execution_count": null,
   "metadata": {},
   "outputs": [],
   "source": [
    "retornos_diarios = data['Adj Close'].pct_change()\n",
    "retornos_mensuales = data['Adj Close'].resample('M').ffill().pct_change()"
   ]
  },
  {
   "cell_type": "code",
   "execution_count": null,
   "metadata": {},
   "outputs": [],
   "source": [
    "retornos_diarios=retornos_diarios.drop(index=fecha_minima)\n",
    "rendimientos_promedio=retornos_diarios.mean()"
   ]
  },
  {
   "cell_type": "markdown",
   "metadata": {},
   "source": [
    "## Calculo retornos promedios de los activos"
   ]
  },
  {
   "cell_type": "code",
   "execution_count": null,
   "metadata": {},
   "outputs": [],
   "source": [
    "rendimientos_promedio"
   ]
  }
 ],
 "metadata": {
  "kernelspec": {
   "display_name": "Python 3",
   "language": "python",
   "name": "python3"
  },
  "language_info": {
   "codemirror_mode": {
    "name": "ipython",
    "version": 3
   },
   "file_extension": ".py",
   "mimetype": "text/x-python",
   "name": "python",
   "nbconvert_exporter": "python",
   "pygments_lexer": "ipython3",
   "version": "3.11.1"
  },
  "orig_nbformat": 4,
  "vscode": {
   "interpreter": {
    "hash": "ef621d4e0a908a0a094089f012d69ec25badc5a60468df77e9241dc74a478049"
   }
  }
 },
 "nbformat": 4,
 "nbformat_minor": 2
}
