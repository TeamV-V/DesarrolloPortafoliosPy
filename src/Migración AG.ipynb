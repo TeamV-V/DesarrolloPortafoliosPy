{
 "cells": [
  {
   "cell_type": "code",
   "execution_count": 8,
   "metadata": {},
   "outputs": [],
   "source": [
    "import pandas as pd\n",
    "import numpy as np\n",
    "import yfinance as yf\n",
    "import datetime\n",
    "from datetime import date, timedelta"
   ]
  },
  {
   "cell_type": "code",
   "execution_count": 9,
   "metadata": {},
   "outputs": [],
   "source": [
    "today = date.today()\n",
    "\n",
    "d1 = today.strftime(\"%Y-%m-%d\")\n",
    "end_date = d1\n",
    "d2 = date.today() - timedelta(days=730)\n",
    "d2 = d2.strftime(\"%Y-%m-%d\")\n",
    "start_date = d2\n",
    "\n",
    "data = yf.download(['BTC-USD','ETH-USD','BNB-USD'], \n",
    "                      start=start_date, \n",
    "                      end=end_date, \n",
    "                      progress=False)\n",
    "data[\"Date\"] = data.index\n",
    "data = data[[\"Date\", \"Adj Close\"]]\n",
    "data.reset_index(drop=True, inplace=True)\n",
    "data[\"Date\"] = data[\"Date\"].dt.date\n",
    "data[\"Date\"] = pd.to_datetime(data[\"Date\"])\n",
    "fecha_minima=min(data[\"Date\"])\n",
    "data=data.set_index(data[\"Date\"])\n",
    "del data[\"Date\"]"
   ]
  },
  {
   "cell_type": "code",
   "execution_count": 10,
   "metadata": {},
   "outputs": [
    {
     "data": {
      "text/html": [
       "<div>\n",
       "<style scoped>\n",
       "    .dataframe tbody tr th:only-of-type {\n",
       "        vertical-align: middle;\n",
       "    }\n",
       "\n",
       "    .dataframe tbody tr th {\n",
       "        vertical-align: top;\n",
       "    }\n",
       "\n",
       "    .dataframe thead tr th {\n",
       "        text-align: left;\n",
       "    }\n",
       "\n",
       "    .dataframe thead tr:last-of-type th {\n",
       "        text-align: right;\n",
       "    }\n",
       "</style>\n",
       "<table border=\"1\" class=\"dataframe\">\n",
       "  <thead>\n",
       "    <tr>\n",
       "      <th></th>\n",
       "      <th colspan=\"3\" halign=\"left\">Adj Close</th>\n",
       "    </tr>\n",
       "    <tr>\n",
       "      <th></th>\n",
       "      <th>BNB-USD</th>\n",
       "      <th>BTC-USD</th>\n",
       "      <th>ETH-USD</th>\n",
       "    </tr>\n",
       "    <tr>\n",
       "      <th>Date</th>\n",
       "      <th></th>\n",
       "      <th></th>\n",
       "      <th></th>\n",
       "    </tr>\n",
       "  </thead>\n",
       "  <tbody>\n",
       "    <tr>\n",
       "      <th>2020-10-20</th>\n",
       "      <td>28.803444</td>\n",
       "      <td>11916.334961</td>\n",
       "      <td>369.136902</td>\n",
       "    </tr>\n",
       "    <tr>\n",
       "      <th>2020-10-21</th>\n",
       "      <td>29.772354</td>\n",
       "      <td>12823.689453</td>\n",
       "      <td>392.189972</td>\n",
       "    </tr>\n",
       "    <tr>\n",
       "      <th>2020-10-22</th>\n",
       "      <td>30.658192</td>\n",
       "      <td>12965.891602</td>\n",
       "      <td>413.772980</td>\n",
       "    </tr>\n",
       "    <tr>\n",
       "      <th>2020-10-23</th>\n",
       "      <td>30.633961</td>\n",
       "      <td>12931.539062</td>\n",
       "      <td>409.766693</td>\n",
       "    </tr>\n",
       "    <tr>\n",
       "      <th>2020-10-24</th>\n",
       "      <td>30.588821</td>\n",
       "      <td>13108.062500</td>\n",
       "      <td>412.457611</td>\n",
       "    </tr>\n",
       "    <tr>\n",
       "      <th>...</th>\n",
       "      <td>...</td>\n",
       "      <td>...</td>\n",
       "      <td>...</td>\n",
       "    </tr>\n",
       "    <tr>\n",
       "      <th>2022-10-15</th>\n",
       "      <td>268.404083</td>\n",
       "      <td>19067.634766</td>\n",
       "      <td>1274.871704</td>\n",
       "    </tr>\n",
       "    <tr>\n",
       "      <th>2022-10-16</th>\n",
       "      <td>272.519958</td>\n",
       "      <td>19268.093750</td>\n",
       "      <td>1306.296631</td>\n",
       "    </tr>\n",
       "    <tr>\n",
       "      <th>2022-10-17</th>\n",
       "      <td>275.512573</td>\n",
       "      <td>19550.757812</td>\n",
       "      <td>1331.713623</td>\n",
       "    </tr>\n",
       "    <tr>\n",
       "      <th>2022-10-18</th>\n",
       "      <td>273.214569</td>\n",
       "      <td>19334.416016</td>\n",
       "      <td>1310.447021</td>\n",
       "    </tr>\n",
       "    <tr>\n",
       "      <th>2022-10-19</th>\n",
       "      <td>271.981354</td>\n",
       "      <td>19139.535156</td>\n",
       "      <td>1285.744263</td>\n",
       "    </tr>\n",
       "  </tbody>\n",
       "</table>\n",
       "<p>730 rows × 3 columns</p>\n",
       "</div>"
      ],
      "text/plain": [
       "             Adj Close                           \n",
       "               BNB-USD       BTC-USD      ETH-USD\n",
       "Date                                             \n",
       "2020-10-20   28.803444  11916.334961   369.136902\n",
       "2020-10-21   29.772354  12823.689453   392.189972\n",
       "2020-10-22   30.658192  12965.891602   413.772980\n",
       "2020-10-23   30.633961  12931.539062   409.766693\n",
       "2020-10-24   30.588821  13108.062500   412.457611\n",
       "...                ...           ...          ...\n",
       "2022-10-15  268.404083  19067.634766  1274.871704\n",
       "2022-10-16  272.519958  19268.093750  1306.296631\n",
       "2022-10-17  275.512573  19550.757812  1331.713623\n",
       "2022-10-18  273.214569  19334.416016  1310.447021\n",
       "2022-10-19  271.981354  19139.535156  1285.744263\n",
       "\n",
       "[730 rows x 3 columns]"
      ]
     },
     "execution_count": 10,
     "metadata": {},
     "output_type": "execute_result"
    }
   ],
   "source": [
    "data"
   ]
  },
  {
   "cell_type": "code",
   "execution_count": 11,
   "metadata": {},
   "outputs": [],
   "source": [
    "retornos_diarios = data['Adj Close'].pct_change()\n",
    "retornos_mensuales = data['Adj Close'].resample('M').ffill().pct_change()"
   ]
  },
  {
   "cell_type": "code",
   "execution_count": 12,
   "metadata": {},
   "outputs": [],
   "source": [
    "retornos_diarios=retornos_diarios.drop(index=fecha_minima)\n",
    "rendimientos_promedio=retornos_diarios.mean()"
   ]
  },
  {
   "cell_type": "code",
   "execution_count": 13,
   "metadata": {},
   "outputs": [
    {
     "data": {
      "text/plain": [
       "BNB-USD    0.004819\n",
       "BTC-USD    0.001390\n",
       "ETH-USD    0.003006\n",
       "dtype: float64"
      ]
     },
     "execution_count": 13,
     "metadata": {},
     "output_type": "execute_result"
    }
   ],
   "source": [
    "rendimientos_promedio"
   ]
  }
 ],
 "metadata": {
  "kernelspec": {
   "display_name": "Python 3.10.5 64-bit",
   "language": "python",
   "name": "python3"
  },
  "language_info": {
   "codemirror_mode": {
    "name": "ipython",
    "version": 3
   },
   "file_extension": ".py",
   "mimetype": "text/x-python",
   "name": "python",
   "nbconvert_exporter": "python",
   "pygments_lexer": "ipython3",
   "version": "3.10.5"
  },
  "orig_nbformat": 4,
  "vscode": {
   "interpreter": {
    "hash": "1a1ca5d98c5c0f7bb789bee60e09d4092c8a789a7130d67fced00303721ad303"
   }
  }
 },
 "nbformat": 4,
 "nbformat_minor": 2
}
