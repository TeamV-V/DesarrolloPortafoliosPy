{
 "cells": [
  {
   "cell_type": "markdown",
   "metadata": {},
   "source": [
    "## Carga librerias\n"
   ]
  },
  {
   "cell_type": "code",
   "execution_count": null,
   "metadata": {},
   "outputs": [],
   "source": [
    "import pandas as pd\n",
    "import numpy as np\n",
    "import yfinance as yf\n",
    "import datetime\n",
    "from datetime import date, timedelta\n",
    "from IPython.display import clear_output"
   ]
  },
  {
   "cell_type": "markdown",
   "metadata": {},
   "source": [
    "## Funciones de apoyo\n"
   ]
  },
  {
   "cell_type": "code",
   "execution_count": null,
   "metadata": {},
   "outputs": [],
   "source": [
    "def get_time_delta(date: date , days: int, format: str = '%Y-%m-%d'):\n",
    "    \"\"\"this function returns a date that is days before the date passed as argument and its original day\n",
    "\n",
    "    Args:\n",
    "        date (date): date to be used as reference\n",
    "        days (int): number of days for the time delta\n",
    "\n",
    "    Returns:\n",
    "        [str,str]: end date and start date in the format specified\n",
    "    \"\"\"\n",
    "    return (date - timedelta(days=days)).strftime(format), date.strftime(format)\n",
    "\n",
    "def format_data_to_save(data: pd.DataFrame):\n",
    "    \"\"\"this function formats the data to be saved in the database\n",
    "\n",
    "    Args:\n",
    "        data (pd.DataFrame): data to be formatted\n",
    "\n",
    "    Returns:\n",
    "        pd.DataFrame: data formatted to be saved\n",
    "    \"\"\"\n",
    "    data[\"Date\"] = data.index\n",
    "    data = data[[\"Date\", \"Adj Close\"]]\n",
    "    data.reset_index(drop=True, inplace=True)\n",
    "    data[\"Date\"] = data[\"Date\"].dt.date\n",
    "    data[\"Date\"] = pd.to_datetime(data[\"Date\"])\n",
    "    fecha_minima=min(data[\"Date\"])\n",
    "    data=data.set_index(data[\"Date\"])\n",
    "    del data[\"Date\"]\n",
    "    data = data.reorder_levels([0,1], axis=1)\n",
    "    data.columns = data.columns.droplevel()\n",
    "    return data\n",
    "    "
   ]
  },
  {
   "cell_type": "markdown",
   "metadata": {},
   "source": [
    "## Descarga datos historicos de los ultimos dos años\n"
   ]
  },
  {
   "cell_type": "markdown",
   "metadata": {},
   "source": [
    "### Descarga de Crypto\n"
   ]
  },
  {
   "cell_type": "code",
   "execution_count": null,
   "metadata": {},
   "outputs": [],
   "source": [
    "\n",
    "start_date,end_date = get_time_delta(date.today(), 730)\n",
    "\n",
    "data = yf.download(['BTC-USD','ETH-USD','BNB-USD'], \n",
    "                        start=start_date, \n",
    "                      end=end_date, \n",
    "                      progress=False)\n",
    "                      \n",
    "data = format_data_to_save(data)   \n",
    "\n"
   ]
  },
  {
   "cell_type": "code",
   "execution_count": null,
   "metadata": {},
   "outputs": [],
   "source": [
    "data.to_csv('../../data/Curated/Crypto_History.csv')"
   ]
  },
  {
   "cell_type": "markdown",
   "metadata": {},
   "source": [
    "### Descarga de Acciones SP500\n"
   ]
  },
  {
   "cell_type": "code",
   "execution_count": 17,
   "metadata": {},
   "outputs": [],
   "source": [
    "# load data from SP500\n",
    "sp500 = pd.read_csv('../../data/raw/SP500.csv')\n",
    "symbols = sp500[\"Symbol\"].tolist()\n",
    "data = yf.download(symbols, \n",
    "                      start=start_date, \n",
    "                      end=end_date, \n",
    "                      progress=False)\n",
    "data = format_data_to_save(data)\n",
    "\n",
    "clear_output()"
   ]
  },
  {
   "cell_type": "code",
   "execution_count": 18,
   "metadata": {},
   "outputs": [],
   "source": [
    "data.to_csv('../../data/Curated/SP500_History.csv')"
   ]
  }
 ],
 "metadata": {
  "kernelspec": {
   "display_name": "Python 3.10.7 64-bit",
   "language": "python",
   "name": "python3"
  },
  "language_info": {
   "codemirror_mode": {
    "name": "ipython",
    "version": 3
   },
   "file_extension": ".py",
   "mimetype": "text/x-python",
   "name": "python",
   "nbconvert_exporter": "python",
   "pygments_lexer": "ipython3",
   "version": "3.10.7"
  },
  "orig_nbformat": 4,
  "vscode": {
   "interpreter": {
    "hash": "ac32b2f398e7b55f94ec93b78e14522600a25a69fa0bae156585a5bf7ae653de"
   }
  }
 },
 "nbformat": 4,
 "nbformat_minor": 2
}
