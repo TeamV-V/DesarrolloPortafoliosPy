{
  "cells": [
    {
      "cell_type": "code",
      "execution_count": 1,
      "metadata": {
        "id": "t2iHepvgXsQW"
      },
      "outputs": [],
      "source": [
        "import pandas as pd\n",
        "import numpy as np\n",
        "import yfinance as yf"
      ]
    },
    {
      "cell_type": "code",
      "execution_count": 2,
      "metadata": {
        "colab": {
          "base_uri": "https://localhost:8080/",
          "height": 719
        },
        "id": "ECh29PumdKLM",
        "outputId": "4f23be50-3601-42e8-e6b0-c83b9f1e928f"
      },
      "outputs": [
        {
          "name": "stdout",
          "output_type": "stream",
          "text": [
            "[*********************100%***********************]  5 of 5 completed\n"
          ]
        },
        {
          "data": {
            "text/html": [
              "<div>\n",
              "<style scoped>\n",
              "    .dataframe tbody tr th:only-of-type {\n",
              "        vertical-align: middle;\n",
              "    }\n",
              "\n",
              "    .dataframe tbody tr th {\n",
              "        vertical-align: top;\n",
              "    }\n",
              "\n",
              "    .dataframe thead th {\n",
              "        text-align: right;\n",
              "    }\n",
              "</style>\n",
              "<table border=\"1\" class=\"dataframe\">\n",
              "  <thead>\n",
              "    <tr style=\"text-align: right;\">\n",
              "      <th></th>\n",
              "      <th>BNB-USD</th>\n",
              "      <th>BTC-USD</th>\n",
              "      <th>ETH-USD</th>\n",
              "      <th>LTC-USD</th>\n",
              "      <th>XRP-USD</th>\n",
              "    </tr>\n",
              "    <tr>\n",
              "      <th>Date</th>\n",
              "      <th></th>\n",
              "      <th></th>\n",
              "      <th></th>\n",
              "      <th></th>\n",
              "      <th></th>\n",
              "    </tr>\n",
              "  </thead>\n",
              "  <tbody>\n",
              "    <tr>\n",
              "      <th>2018-02-09</th>\n",
              "      <td>9.730460</td>\n",
              "      <td>8736.980469</td>\n",
              "      <td>883.864990</td>\n",
              "      <td>163.949997</td>\n",
              "      <td>0.954428</td>\n",
              "    </tr>\n",
              "    <tr>\n",
              "      <th>2018-02-10</th>\n",
              "      <td>9.255970</td>\n",
              "      <td>8621.900391</td>\n",
              "      <td>860.414978</td>\n",
              "      <td>155.593002</td>\n",
              "      <td>1.070740</td>\n",
              "    </tr>\n",
              "    <tr>\n",
              "      <th>2018-02-11</th>\n",
              "      <td>8.704910</td>\n",
              "      <td>8129.970215</td>\n",
              "      <td>814.659973</td>\n",
              "      <td>148.990005</td>\n",
              "      <td>1.004160</td>\n",
              "    </tr>\n",
              "    <tr>\n",
              "      <th>2018-02-12</th>\n",
              "      <td>9.322470</td>\n",
              "      <td>8926.570312</td>\n",
              "      <td>868.706970</td>\n",
              "      <td>161.565994</td>\n",
              "      <td>1.081010</td>\n",
              "    </tr>\n",
              "    <tr>\n",
              "      <th>2018-02-13</th>\n",
              "      <td>8.986780</td>\n",
              "      <td>8598.309570</td>\n",
              "      <td>845.257996</td>\n",
              "      <td>159.554001</td>\n",
              "      <td>1.027410</td>\n",
              "    </tr>\n",
              "    <tr>\n",
              "      <th>...</th>\n",
              "      <td>...</td>\n",
              "      <td>...</td>\n",
              "      <td>...</td>\n",
              "      <td>...</td>\n",
              "      <td>...</td>\n",
              "    </tr>\n",
              "    <tr>\n",
              "      <th>2023-02-05</th>\n",
              "      <td>327.869354</td>\n",
              "      <td>22955.666016</td>\n",
              "      <td>1631.645874</td>\n",
              "      <td>96.458755</td>\n",
              "      <td>0.398937</td>\n",
              "    </tr>\n",
              "    <tr>\n",
              "      <th>2023-02-06</th>\n",
              "      <td>324.627167</td>\n",
              "      <td>22760.109375</td>\n",
              "      <td>1616.247070</td>\n",
              "      <td>96.062454</td>\n",
              "      <td>0.392824</td>\n",
              "    </tr>\n",
              "    <tr>\n",
              "      <th>2023-02-07</th>\n",
              "      <td>333.227875</td>\n",
              "      <td>23264.291016</td>\n",
              "      <td>1672.003540</td>\n",
              "      <td>100.927666</td>\n",
              "      <td>0.403904</td>\n",
              "    </tr>\n",
              "    <tr>\n",
              "      <th>2023-02-08</th>\n",
              "      <td>328.088654</td>\n",
              "      <td>22939.398438</td>\n",
              "      <td>1650.716797</td>\n",
              "      <td>99.207619</td>\n",
              "      <td>0.398052</td>\n",
              "    </tr>\n",
              "    <tr>\n",
              "      <th>2023-02-09</th>\n",
              "      <td>307.204895</td>\n",
              "      <td>21963.814453</td>\n",
              "      <td>1573.255981</td>\n",
              "      <td>92.208916</td>\n",
              "      <td>0.387174</td>\n",
              "    </tr>\n",
              "  </tbody>\n",
              "</table>\n",
              "<p>1827 rows × 5 columns</p>\n",
              "</div>"
            ],
            "text/plain": [
              "               BNB-USD       BTC-USD      ETH-USD     LTC-USD   XRP-USD\n",
              "Date                                                                   \n",
              "2018-02-09    9.730460   8736.980469   883.864990  163.949997  0.954428\n",
              "2018-02-10    9.255970   8621.900391   860.414978  155.593002  1.070740\n",
              "2018-02-11    8.704910   8129.970215   814.659973  148.990005  1.004160\n",
              "2018-02-12    9.322470   8926.570312   868.706970  161.565994  1.081010\n",
              "2018-02-13    8.986780   8598.309570   845.257996  159.554001  1.027410\n",
              "...                ...           ...          ...         ...       ...\n",
              "2023-02-05  327.869354  22955.666016  1631.645874   96.458755  0.398937\n",
              "2023-02-06  324.627167  22760.109375  1616.247070   96.062454  0.392824\n",
              "2023-02-07  333.227875  23264.291016  1672.003540  100.927666  0.403904\n",
              "2023-02-08  328.088654  22939.398438  1650.716797   99.207619  0.398052\n",
              "2023-02-09  307.204895  21963.814453  1573.255981   92.208916  0.387174\n",
              "\n",
              "[1827 rows x 5 columns]"
            ]
          },
          "execution_count": 2,
          "metadata": {},
          "output_type": "execute_result"
        }
      ],
      "source": [
        "#Importar historico de BTC-USD de los ultimos 5 años con intervalo diario\n",
        "df = yf.Tickers(\"BTC-USD ETH-USD XRP-USD BNB-USD LTC-USD\").history(period='5y',interval='1d')\n",
        "\n",
        "#Dejar unicamente las columnas de cierre\n",
        "df=df['Close']\n",
        "\n",
        "#Ver el df con la información\n",
        "df\n"
      ]
    },
    {
      "cell_type": "code",
      "execution_count": 3,
      "metadata": {
        "colab": {
          "base_uri": "https://localhost:8080/"
        },
        "id": "WOAufkF5ams8",
        "outputId": "86daf3f2-d69b-4311-d008-cf3bd14e5d3d"
      },
      "outputs": [
        {
          "data": {
            "text/plain": [
              "BNB-USD    0\n",
              "BTC-USD    0\n",
              "ETH-USD    0\n",
              "LTC-USD    0\n",
              "XRP-USD    0\n",
              "dtype: int64"
            ]
          },
          "execution_count": 3,
          "metadata": {},
          "output_type": "execute_result"
        }
      ],
      "source": [
        "#Identifico Vacios\n",
        "df.isnull().sum()\n",
        "\n"
      ]
    },
    {
      "cell_type": "code",
      "execution_count": 4,
      "metadata": {
        "id": "L4dCJd0-ac6z"
      },
      "outputs": [],
      "source": [
        "df.to_csv(\"History_Crypto.csv\")"
      ]
    }
  ],
  "metadata": {
    "colab": {
      "provenance": []
    },
    "kernelspec": {
      "display_name": "Python 3",
      "language": "python",
      "name": "python3"
    },
    "language_info": {
      "codemirror_mode": {
        "name": "ipython",
        "version": 3
      },
      "file_extension": ".py",
      "mimetype": "text/x-python",
      "name": "python",
      "nbconvert_exporter": "python",
      "pygments_lexer": "ipython3",
      "version": "3.11.1"
    },
    "vscode": {
      "interpreter": {
        "hash": "ef621d4e0a908a0a094089f012d69ec25badc5a60468df77e9241dc74a478049"
      }
    }
  },
  "nbformat": 4,
  "nbformat_minor": 0
}
